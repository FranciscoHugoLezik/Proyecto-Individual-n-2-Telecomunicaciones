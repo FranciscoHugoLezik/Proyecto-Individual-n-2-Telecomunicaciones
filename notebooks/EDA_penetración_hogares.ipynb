{
 "cells": [
  {
   "cell_type": "markdown",
   "metadata": {},
   "source": [
    "# EDA del dataset 'Penetración Hogares'"
   ]
  },
  {
   "cell_type": "markdown",
   "metadata": {},
   "source": [
    "## Librerías"
   ]
  },
  {
   "cell_type": "markdown",
   "metadata": {},
   "source": [
    "### Librerías nativas"
   ]
  },
  {
   "cell_type": "code",
   "execution_count": 2,
   "metadata": {},
   "outputs": [],
   "source": [
    "import warnings\n",
    "import os"
   ]
  },
  {
   "cell_type": "markdown",
   "metadata": {},
   "source": [
    "### Librerías instaladas"
   ]
  },
  {
   "cell_type": "code",
   "execution_count": 3,
   "metadata": {},
   "outputs": [],
   "source": [
    "import pandas as pd\n",
    "import matplotlib.pyplot as plt\n",
    "import seaborn as sns"
   ]
  },
  {
   "cell_type": "markdown",
   "metadata": {},
   "source": [
    "### Ignorar warnings"
   ]
  },
  {
   "cell_type": "code",
   "execution_count": 4,
   "metadata": {},
   "outputs": [],
   "source": [
    "warnings.filterwarnings('ignore')"
   ]
  },
  {
   "cell_type": "markdown",
   "metadata": {},
   "source": [
    "## Extracción del dataset"
   ]
  },
  {
   "cell_type": "markdown",
   "metadata": {},
   "source": [
    "Ruta actual."
   ]
  },
  {
   "cell_type": "code",
   "execution_count": 5,
   "metadata": {},
   "outputs": [
    {
     "data": {
      "text/plain": [
       "'c:\\\\Users\\\\franc\\\\Desktop\\\\Proyecto Individual n°2 Telecomunicaciones\\\\notebooks'"
      ]
     },
     "execution_count": 5,
     "metadata": {},
     "output_type": "execute_result"
    }
   ],
   "source": [
    "ruta_actual = os.getcwd()\n",
    "\n",
    "ruta_actual"
   ]
  },
  {
   "cell_type": "markdown",
   "metadata": {},
   "source": [
    "Ruta raíz del proyecto."
   ]
  },
  {
   "cell_type": "code",
   "execution_count": 6,
   "metadata": {},
   "outputs": [
    {
     "data": {
      "text/plain": [
       "'c:\\\\Users\\\\franc\\\\Desktop\\\\Proyecto Individual n°2 Telecomunicaciones'"
      ]
     },
     "execution_count": 6,
     "metadata": {},
     "output_type": "execute_result"
    }
   ],
   "source": [
    "ruta_del_proyecto = os.path.dirname(\n",
    "    ruta_actual\n",
    "    )\n",
    "\n",
    "ruta_del_proyecto"
   ]
  },
  {
   "cell_type": "markdown",
   "metadata": {},
   "source": [
    "Ruta del dataset a extraer."
   ]
  },
  {
   "cell_type": "code",
   "execution_count": 7,
   "metadata": {},
   "outputs": [
    {
     "data": {
      "text/plain": [
       "'c:\\\\Users\\\\franc\\\\Desktop\\\\Proyecto Individual n°2 Telecomunicaciones\\\\data\\\\penetracion_hogares.parquet'"
      ]
     },
     "execution_count": 7,
     "metadata": {},
     "output_type": "execute_result"
    }
   ],
   "source": [
    "ruta_del_dataset = os.path.join(\n",
    "    ruta_del_proyecto, \n",
    "    'data', \n",
    "    'penetracion_hogares.parquet'\n",
    "    )\n",
    "\n",
    "ruta_del_dataset"
   ]
  },
  {
   "cell_type": "markdown",
   "metadata": {},
   "source": [
    "Se extrae el dataset."
   ]
  },
  {
   "cell_type": "code",
   "execution_count": 8,
   "metadata": {},
   "outputs": [],
   "source": [
    "penetracion_hogares = pd.read_parquet(\n",
    "    ruta_del_dataset, \n",
    "    engine='fastparquet'\n",
    "    )"
   ]
  },
  {
   "cell_type": "markdown",
   "metadata": {},
   "source": [
    "## Exploración del dataset"
   ]
  },
  {
   "cell_type": "code",
   "execution_count": 9,
   "metadata": {},
   "outputs": [
    {
     "data": {
      "text/html": [
       "<div>\n",
       "<style scoped>\n",
       "    .dataframe tbody tr th:only-of-type {\n",
       "        vertical-align: middle;\n",
       "    }\n",
       "\n",
       "    .dataframe tbody tr th {\n",
       "        vertical-align: top;\n",
       "    }\n",
       "\n",
       "    .dataframe thead th {\n",
       "        text-align: right;\n",
       "    }\n",
       "</style>\n",
       "<table border=\"1\" class=\"dataframe\">\n",
       "  <thead>\n",
       "    <tr style=\"text-align: right;\">\n",
       "      <th></th>\n",
       "      <th>Año</th>\n",
       "      <th>Trimestre</th>\n",
       "      <th>Provincia</th>\n",
       "      <th>Accesos por cada 100 hogares</th>\n",
       "    </tr>\n",
       "  </thead>\n",
       "  <tbody>\n",
       "    <tr>\n",
       "      <th>0</th>\n",
       "      <td>2024</td>\n",
       "      <td>2</td>\n",
       "      <td>Buenos Aires</td>\n",
       "      <td>79.840000</td>\n",
       "    </tr>\n",
       "    <tr>\n",
       "      <th>1</th>\n",
       "      <td>2024</td>\n",
       "      <td>2</td>\n",
       "      <td>Capital Federal</td>\n",
       "      <td>116.370000</td>\n",
       "    </tr>\n",
       "    <tr>\n",
       "      <th>2</th>\n",
       "      <td>2024</td>\n",
       "      <td>2</td>\n",
       "      <td>Catamarca</td>\n",
       "      <td>68.810000</td>\n",
       "    </tr>\n",
       "    <tr>\n",
       "      <th>3</th>\n",
       "      <td>2024</td>\n",
       "      <td>2</td>\n",
       "      <td>Chaco</td>\n",
       "      <td>44.060000</td>\n",
       "    </tr>\n",
       "    <tr>\n",
       "      <th>4</th>\n",
       "      <td>2024</td>\n",
       "      <td>2</td>\n",
       "      <td>Chubut</td>\n",
       "      <td>86.330000</td>\n",
       "    </tr>\n",
       "    <tr>\n",
       "      <th>...</th>\n",
       "      <td>...</td>\n",
       "      <td>...</td>\n",
       "      <td>...</td>\n",
       "      <td>...</td>\n",
       "    </tr>\n",
       "    <tr>\n",
       "      <th>995</th>\n",
       "      <td>2014</td>\n",
       "      <td>1</td>\n",
       "      <td>La Rioja</td>\n",
       "      <td>16.294105</td>\n",
       "    </tr>\n",
       "    <tr>\n",
       "      <th>996</th>\n",
       "      <td>2014</td>\n",
       "      <td>1</td>\n",
       "      <td>Mendoza</td>\n",
       "      <td>31.913123</td>\n",
       "    </tr>\n",
       "    <tr>\n",
       "      <th>997</th>\n",
       "      <td>2014</td>\n",
       "      <td>1</td>\n",
       "      <td>Misiones</td>\n",
       "      <td>23.136539</td>\n",
       "    </tr>\n",
       "    <tr>\n",
       "      <th>998</th>\n",
       "      <td>2014</td>\n",
       "      <td>1</td>\n",
       "      <td>Neuquén</td>\n",
       "      <td>49.791605</td>\n",
       "    </tr>\n",
       "    <tr>\n",
       "      <th>999</th>\n",
       "      <td>2014</td>\n",
       "      <td>1</td>\n",
       "      <td>Río Negro</td>\n",
       "      <td>44.913957</td>\n",
       "    </tr>\n",
       "  </tbody>\n",
       "</table>\n",
       "<p>1000 rows × 4 columns</p>\n",
       "</div>"
      ],
      "text/plain": [
       "      Año  Trimestre        Provincia  Accesos por cada 100 hogares\n",
       "0    2024          2     Buenos Aires                     79.840000\n",
       "1    2024          2  Capital Federal                    116.370000\n",
       "2    2024          2        Catamarca                     68.810000\n",
       "3    2024          2            Chaco                     44.060000\n",
       "4    2024          2           Chubut                     86.330000\n",
       "..    ...        ...              ...                           ...\n",
       "995  2014          1         La Rioja                     16.294105\n",
       "996  2014          1          Mendoza                     31.913123\n",
       "997  2014          1         Misiones                     23.136539\n",
       "998  2014          1          Neuquén                     49.791605\n",
       "999  2014          1        Río Negro                     44.913957\n",
       "\n",
       "[1000 rows x 4 columns]"
      ]
     },
     "execution_count": 9,
     "metadata": {},
     "output_type": "execute_result"
    }
   ],
   "source": [
    "penetracion_hogares"
   ]
  },
  {
   "cell_type": "code",
   "execution_count": 10,
   "metadata": {},
   "outputs": [
    {
     "name": "stdout",
     "output_type": "stream",
     "text": [
      "<class 'pandas.core.frame.DataFrame'>\n",
      "RangeIndex: 1000 entries, 0 to 999\n",
      "Data columns (total 4 columns):\n",
      " #   Column                        Non-Null Count  Dtype  \n",
      "---  ------                        --------------  -----  \n",
      " 0   Año                           1000 non-null   int64  \n",
      " 1   Trimestre                     1000 non-null   int64  \n",
      " 2   Provincia                     1000 non-null   object \n",
      " 3   Accesos por cada 100 hogares  1000 non-null   float64\n",
      "dtypes: float64(1), int64(2), object(1)\n",
      "memory usage: 31.4+ KB\n"
     ]
    }
   ],
   "source": [
    "penetracion_hogares.info()"
   ]
  },
  {
   "cell_type": "markdown",
   "metadata": {},
   "source": [
    "Sin duplicados."
   ]
  },
  {
   "cell_type": "code",
   "execution_count": 11,
   "metadata": {},
   "outputs": [
    {
     "data": {
      "text/plain": [
       "np.int64(0)"
      ]
     },
     "execution_count": 11,
     "metadata": {},
     "output_type": "execute_result"
    }
   ],
   "source": [
    "penetracion_hogares.duplicated(\n",
    "    subset=['Año', 'Trimestre', 'Provincia']\n",
    "    ).sum()"
   ]
  },
  {
   "cell_type": "markdown",
   "metadata": {},
   "source": [
    "## Media de accesos por cada 100 hogares a nivel nacional"
   ]
  },
  {
   "cell_type": "code",
   "execution_count": 12,
   "metadata": {},
   "outputs": [
    {
     "data": {
      "text/html": [
       "<div>\n",
       "<style scoped>\n",
       "    .dataframe tbody tr th:only-of-type {\n",
       "        vertical-align: middle;\n",
       "    }\n",
       "\n",
       "    .dataframe tbody tr th {\n",
       "        vertical-align: top;\n",
       "    }\n",
       "\n",
       "    .dataframe thead th {\n",
       "        text-align: right;\n",
       "    }\n",
       "</style>\n",
       "<table border=\"1\" class=\"dataframe\">\n",
       "  <thead>\n",
       "    <tr style=\"text-align: right;\">\n",
       "      <th></th>\n",
       "      <th>Año</th>\n",
       "      <th>Accesos por cada 100 hogares</th>\n",
       "    </tr>\n",
       "  </thead>\n",
       "  <tbody>\n",
       "    <tr>\n",
       "      <th>0</th>\n",
       "      <td>2014</td>\n",
       "      <td>37.335129</td>\n",
       "    </tr>\n",
       "    <tr>\n",
       "      <th>1</th>\n",
       "      <td>2015</td>\n",
       "      <td>39.198153</td>\n",
       "    </tr>\n",
       "    <tr>\n",
       "      <th>2</th>\n",
       "      <td>2016</td>\n",
       "      <td>39.889283</td>\n",
       "    </tr>\n",
       "    <tr>\n",
       "      <th>3</th>\n",
       "      <td>2017</td>\n",
       "      <td>42.525228</td>\n",
       "    </tr>\n",
       "    <tr>\n",
       "      <th>4</th>\n",
       "      <td>2018</td>\n",
       "      <td>48.477593</td>\n",
       "    </tr>\n",
       "    <tr>\n",
       "      <th>5</th>\n",
       "      <td>2019</td>\n",
       "      <td>53.666356</td>\n",
       "    </tr>\n",
       "    <tr>\n",
       "      <th>6</th>\n",
       "      <td>2020</td>\n",
       "      <td>56.130637</td>\n",
       "    </tr>\n",
       "    <tr>\n",
       "      <th>7</th>\n",
       "      <td>2021</td>\n",
       "      <td>61.978518</td>\n",
       "    </tr>\n",
       "    <tr>\n",
       "      <th>8</th>\n",
       "      <td>2022</td>\n",
       "      <td>67.823625</td>\n",
       "    </tr>\n",
       "    <tr>\n",
       "      <th>9</th>\n",
       "      <td>2023</td>\n",
       "      <td>70.042812</td>\n",
       "    </tr>\n",
       "    <tr>\n",
       "      <th>10</th>\n",
       "      <td>2024</td>\n",
       "      <td>71.983125</td>\n",
       "    </tr>\n",
       "  </tbody>\n",
       "</table>\n",
       "</div>"
      ],
      "text/plain": [
       "     Año  Accesos por cada 100 hogares\n",
       "0   2014                     37.335129\n",
       "1   2015                     39.198153\n",
       "2   2016                     39.889283\n",
       "3   2017                     42.525228\n",
       "4   2018                     48.477593\n",
       "5   2019                     53.666356\n",
       "6   2020                     56.130637\n",
       "7   2021                     61.978518\n",
       "8   2022                     67.823625\n",
       "9   2023                     70.042812\n",
       "10  2024                     71.983125"
      ]
     },
     "execution_count": 12,
     "metadata": {},
     "output_type": "execute_result"
    }
   ],
   "source": [
    "accesos_a_lo_largo_del_tiempo = pd.DataFrame(penetracion_hogares.groupby('Año', as_index=False)['Accesos por cada 100 hogares'].mean())\n",
    "\n",
    "accesos_a_lo_largo_del_tiempo"
   ]
  },
  {
   "cell_type": "code",
   "execution_count": 13,
   "metadata": {},
   "outputs": [
    {
     "data": {
      "image/png": "[encoded data removed]",
      "text/plain": [
       "<Figure size 1000x600 with 1 Axes>"
      ]
     },
     "metadata": {},
     "output_type": "display_data"
    }
   ],
   "source": [
    "plt.figure(figsize=(10, 6))\n",
    "sns.lineplot(x='Año', y='Accesos por cada 100 hogares', data=accesos_a_lo_largo_del_tiempo)\n",
    "plt.title('Media de accesos por cada 100 hogares a nivel nacional')\n",
    "plt.xlabel('Fecha')\n",
    "plt.ylabel('Valor')\n",
    "plt.xticks(rotation=45)\n",
    "plt.show()"
   ]
  },
  {
   "cell_type": "markdown",
   "metadata": {},
   "source": [
    "### Análisis del gráfico\n",
    "\n",
    "El gráfico muestra una tendencia alcista marcada entre 2014 y el 2022. Luego la tendencia tiende a aplanarse hacia una meseta para el 2024."
   ]
  },
  {
   "cell_type": "markdown",
   "metadata": {},
   "source": [
    "## Accesos por cada 100 hogares en diferentes provincias (2024)"
   ]
  },
  {
   "cell_type": "code",
   "execution_count": 14,
   "metadata": {},
   "outputs": [
    {
     "data": {
      "text/html": [
       "<div>\n",
       "<style scoped>\n",
       "    .dataframe tbody tr th:only-of-type {\n",
       "        vertical-align: middle;\n",
       "    }\n",
       "\n",
       "    .dataframe tbody tr th {\n",
       "        vertical-align: top;\n",
       "    }\n",
       "\n",
       "    .dataframe thead th {\n",
       "        text-align: right;\n",
       "    }\n",
       "</style>\n",
       "<table border=\"1\" class=\"dataframe\">\n",
       "  <thead>\n",
       "    <tr style=\"text-align: right;\">\n",
       "      <th></th>\n",
       "      <th>Año</th>\n",
       "      <th>Provincia</th>\n",
       "      <th>Accesos por cada 100 hogares</th>\n",
       "    </tr>\n",
       "  </thead>\n",
       "  <tbody>\n",
       "    <tr>\n",
       "      <th>0</th>\n",
       "      <td>2014</td>\n",
       "      <td>Buenos Aires</td>\n",
       "      <td>55.620141</td>\n",
       "    </tr>\n",
       "    <tr>\n",
       "      <th>1</th>\n",
       "      <td>2014</td>\n",
       "      <td>Capital Federal</td>\n",
       "      <td>113.523688</td>\n",
       "    </tr>\n",
       "    <tr>\n",
       "      <th>2</th>\n",
       "      <td>2014</td>\n",
       "      <td>Catamarca</td>\n",
       "      <td>24.793693</td>\n",
       "    </tr>\n",
       "    <tr>\n",
       "      <th>3</th>\n",
       "      <td>2014</td>\n",
       "      <td>Chaco</td>\n",
       "      <td>21.164996</td>\n",
       "    </tr>\n",
       "    <tr>\n",
       "      <th>4</th>\n",
       "      <td>2014</td>\n",
       "      <td>Chubut</td>\n",
       "      <td>40.873343</td>\n",
       "    </tr>\n",
       "    <tr>\n",
       "      <th>...</th>\n",
       "      <td>...</td>\n",
       "      <td>...</td>\n",
       "      <td>...</td>\n",
       "    </tr>\n",
       "    <tr>\n",
       "      <th>259</th>\n",
       "      <td>2024</td>\n",
       "      <td>Santa Cruz</td>\n",
       "      <td>68.750000</td>\n",
       "    </tr>\n",
       "    <tr>\n",
       "      <th>260</th>\n",
       "      <td>2024</td>\n",
       "      <td>Santa Fe</td>\n",
       "      <td>80.870000</td>\n",
       "    </tr>\n",
       "    <tr>\n",
       "      <th>261</th>\n",
       "      <td>2024</td>\n",
       "      <td>Santiago Del Estero</td>\n",
       "      <td>49.540000</td>\n",
       "    </tr>\n",
       "    <tr>\n",
       "      <th>262</th>\n",
       "      <td>2024</td>\n",
       "      <td>Tierra Del Fuego</td>\n",
       "      <td>109.335000</td>\n",
       "    </tr>\n",
       "    <tr>\n",
       "      <th>263</th>\n",
       "      <td>2024</td>\n",
       "      <td>Tucumán</td>\n",
       "      <td>60.660000</td>\n",
       "    </tr>\n",
       "  </tbody>\n",
       "</table>\n",
       "<p>264 rows × 3 columns</p>\n",
       "</div>"
      ],
      "text/plain": [
       "      Año            Provincia  Accesos por cada 100 hogares\n",
       "0    2014         Buenos Aires                     55.620141\n",
       "1    2014      Capital Federal                    113.523688\n",
       "2    2014            Catamarca                     24.793693\n",
       "3    2014                Chaco                     21.164996\n",
       "4    2014               Chubut                     40.873343\n",
       "..    ...                  ...                           ...\n",
       "259  2024           Santa Cruz                     68.750000\n",
       "260  2024             Santa Fe                     80.870000\n",
       "261  2024  Santiago Del Estero                     49.540000\n",
       "262  2024     Tierra Del Fuego                    109.335000\n",
       "263  2024              Tucumán                     60.660000\n",
       "\n",
       "[264 rows x 3 columns]"
      ]
     },
     "execution_count": 14,
     "metadata": {},
     "output_type": "execute_result"
    }
   ],
   "source": [
    "accesos_a_lo_largo_del_tiempo = pd.DataFrame(penetracion_hogares.groupby(['Año', 'Provincia'], as_index=False)[['Accesos por cada 100 hogares']].mean())\n",
    "\n",
    "accesos_a_lo_largo_del_tiempo"
   ]
  },
  {
   "cell_type": "code",
   "execution_count": 15,
   "metadata": {},
   "outputs": [
    {
     "data": {
      "text/html": [
       "<div>\n",
       "<style scoped>\n",
       "    .dataframe tbody tr th:only-of-type {\n",
       "        vertical-align: middle;\n",
       "    }\n",
       "\n",
       "    .dataframe tbody tr th {\n",
       "        vertical-align: top;\n",
       "    }\n",
       "\n",
       "    .dataframe thead th {\n",
       "        text-align: right;\n",
       "    }\n",
       "</style>\n",
       "<table border=\"1\" class=\"dataframe\">\n",
       "  <thead>\n",
       "    <tr style=\"text-align: right;\">\n",
       "      <th></th>\n",
       "      <th>Año</th>\n",
       "      <th>Provincia</th>\n",
       "      <th>Accesos por cada 100 hogares</th>\n",
       "    </tr>\n",
       "  </thead>\n",
       "  <tbody>\n",
       "    <tr>\n",
       "      <th>240</th>\n",
       "      <td>2024</td>\n",
       "      <td>Buenos Aires</td>\n",
       "      <td>80.470</td>\n",
       "    </tr>\n",
       "    <tr>\n",
       "      <th>241</th>\n",
       "      <td>2024</td>\n",
       "      <td>Capital Federal</td>\n",
       "      <td>117.950</td>\n",
       "    </tr>\n",
       "    <tr>\n",
       "      <th>242</th>\n",
       "      <td>2024</td>\n",
       "      <td>Catamarca</td>\n",
       "      <td>68.815</td>\n",
       "    </tr>\n",
       "    <tr>\n",
       "      <th>243</th>\n",
       "      <td>2024</td>\n",
       "      <td>Chaco</td>\n",
       "      <td>45.380</td>\n",
       "    </tr>\n",
       "    <tr>\n",
       "      <th>244</th>\n",
       "      <td>2024</td>\n",
       "      <td>Chubut</td>\n",
       "      <td>85.610</td>\n",
       "    </tr>\n",
       "    <tr>\n",
       "      <th>245</th>\n",
       "      <td>2024</td>\n",
       "      <td>Corrientes</td>\n",
       "      <td>51.660</td>\n",
       "    </tr>\n",
       "    <tr>\n",
       "      <th>246</th>\n",
       "      <td>2024</td>\n",
       "      <td>Córdoba</td>\n",
       "      <td>90.745</td>\n",
       "    </tr>\n",
       "    <tr>\n",
       "      <th>247</th>\n",
       "      <td>2024</td>\n",
       "      <td>Entre Ríos</td>\n",
       "      <td>68.975</td>\n",
       "    </tr>\n",
       "    <tr>\n",
       "      <th>248</th>\n",
       "      <td>2024</td>\n",
       "      <td>Formosa</td>\n",
       "      <td>39.650</td>\n",
       "    </tr>\n",
       "    <tr>\n",
       "      <th>249</th>\n",
       "      <td>2024</td>\n",
       "      <td>Jujuy</td>\n",
       "      <td>57.975</td>\n",
       "    </tr>\n",
       "    <tr>\n",
       "      <th>250</th>\n",
       "      <td>2024</td>\n",
       "      <td>La Pampa</td>\n",
       "      <td>100.830</td>\n",
       "    </tr>\n",
       "    <tr>\n",
       "      <th>251</th>\n",
       "      <td>2024</td>\n",
       "      <td>La Rioja</td>\n",
       "      <td>79.775</td>\n",
       "    </tr>\n",
       "    <tr>\n",
       "      <th>252</th>\n",
       "      <td>2024</td>\n",
       "      <td>Mendoza</td>\n",
       "      <td>52.445</td>\n",
       "    </tr>\n",
       "    <tr>\n",
       "      <th>253</th>\n",
       "      <td>2024</td>\n",
       "      <td>Misiones</td>\n",
       "      <td>57.245</td>\n",
       "    </tr>\n",
       "    <tr>\n",
       "      <th>254</th>\n",
       "      <td>2024</td>\n",
       "      <td>Neuquén</td>\n",
       "      <td>79.215</td>\n",
       "    </tr>\n",
       "    <tr>\n",
       "      <th>255</th>\n",
       "      <td>2024</td>\n",
       "      <td>Río Negro</td>\n",
       "      <td>71.245</td>\n",
       "    </tr>\n",
       "    <tr>\n",
       "      <th>256</th>\n",
       "      <td>2024</td>\n",
       "      <td>Salta</td>\n",
       "      <td>56.010</td>\n",
       "    </tr>\n",
       "    <tr>\n",
       "      <th>257</th>\n",
       "      <td>2024</td>\n",
       "      <td>San Juan</td>\n",
       "      <td>51.395</td>\n",
       "    </tr>\n",
       "    <tr>\n",
       "      <th>258</th>\n",
       "      <td>2024</td>\n",
       "      <td>San Luis</td>\n",
       "      <td>103.050</td>\n",
       "    </tr>\n",
       "    <tr>\n",
       "      <th>259</th>\n",
       "      <td>2024</td>\n",
       "      <td>Santa Cruz</td>\n",
       "      <td>68.750</td>\n",
       "    </tr>\n",
       "    <tr>\n",
       "      <th>260</th>\n",
       "      <td>2024</td>\n",
       "      <td>Santa Fe</td>\n",
       "      <td>80.870</td>\n",
       "    </tr>\n",
       "    <tr>\n",
       "      <th>261</th>\n",
       "      <td>2024</td>\n",
       "      <td>Santiago Del Estero</td>\n",
       "      <td>49.540</td>\n",
       "    </tr>\n",
       "    <tr>\n",
       "      <th>262</th>\n",
       "      <td>2024</td>\n",
       "      <td>Tierra Del Fuego</td>\n",
       "      <td>109.335</td>\n",
       "    </tr>\n",
       "    <tr>\n",
       "      <th>263</th>\n",
       "      <td>2024</td>\n",
       "      <td>Tucumán</td>\n",
       "      <td>60.660</td>\n",
       "    </tr>\n",
       "  </tbody>\n",
       "</table>\n",
       "</div>"
      ],
      "text/plain": [
       "      Año            Provincia  Accesos por cada 100 hogares\n",
       "240  2024         Buenos Aires                        80.470\n",
       "241  2024      Capital Federal                       117.950\n",
       "242  2024            Catamarca                        68.815\n",
       "243  2024                Chaco                        45.380\n",
       "244  2024               Chubut                        85.610\n",
       "245  2024           Corrientes                        51.660\n",
       "246  2024              Córdoba                        90.745\n",
       "247  2024           Entre Ríos                        68.975\n",
       "248  2024              Formosa                        39.650\n",
       "249  2024                Jujuy                        57.975\n",
       "250  2024             La Pampa                       100.830\n",
       "251  2024             La Rioja                        79.775\n",
       "252  2024              Mendoza                        52.445\n",
       "253  2024             Misiones                        57.245\n",
       "254  2024              Neuquén                        79.215\n",
       "255  2024            Río Negro                        71.245\n",
       "256  2024                Salta                        56.010\n",
       "257  2024             San Juan                        51.395\n",
       "258  2024             San Luis                       103.050\n",
       "259  2024           Santa Cruz                        68.750\n",
       "260  2024             Santa Fe                        80.870\n",
       "261  2024  Santiago Del Estero                        49.540\n",
       "262  2024     Tierra Del Fuego                       109.335\n",
       "263  2024              Tucumán                        60.660"
      ]
     },
     "execution_count": 15,
     "metadata": {},
     "output_type": "execute_result"
    }
   ],
   "source": [
    "accesos_a_lo_largo_del_tiempo[accesos_a_lo_largo_del_tiempo['Año'] == 2024]"
   ]
  },
  {
   "cell_type": "code",
   "execution_count": 16,
   "metadata": {},
   "outputs": [],
   "source": [
    "accesos_en_2023 = accesos_a_lo_largo_del_tiempo[accesos_a_lo_largo_del_tiempo['Año'] == 2023].copy()"
   ]
  },
  {
   "cell_type": "code",
   "execution_count": 17,
   "metadata": {},
   "outputs": [],
   "source": [
    "accesos_en_2023.sort_values(inplace=True, by='Accesos por cada 100 hogares', ascending=False)"
   ]
  },
  {
   "cell_type": "code",
   "execution_count": 18,
   "metadata": {},
   "outputs": [
    {
     "data": {
      "text/html": [
       "<div>\n",
       "<style scoped>\n",
       "    .dataframe tbody tr th:only-of-type {\n",
       "        vertical-align: middle;\n",
       "    }\n",
       "\n",
       "    .dataframe tbody tr th {\n",
       "        vertical-align: top;\n",
       "    }\n",
       "\n",
       "    .dataframe thead th {\n",
       "        text-align: right;\n",
       "    }\n",
       "</style>\n",
       "<table border=\"1\" class=\"dataframe\">\n",
       "  <thead>\n",
       "    <tr style=\"text-align: right;\">\n",
       "      <th></th>\n",
       "      <th>Año</th>\n",
       "      <th>Provincia</th>\n",
       "      <th>Accesos por cada 100 hogares</th>\n",
       "    </tr>\n",
       "  </thead>\n",
       "  <tbody>\n",
       "    <tr>\n",
       "      <th>217</th>\n",
       "      <td>2023</td>\n",
       "      <td>Capital Federal</td>\n",
       "      <td>117.8725</td>\n",
       "    </tr>\n",
       "    <tr>\n",
       "      <th>238</th>\n",
       "      <td>2023</td>\n",
       "      <td>Tierra Del Fuego</td>\n",
       "      <td>106.7625</td>\n",
       "    </tr>\n",
       "    <tr>\n",
       "      <th>226</th>\n",
       "      <td>2023</td>\n",
       "      <td>La Pampa</td>\n",
       "      <td>98.4650</td>\n",
       "    </tr>\n",
       "    <tr>\n",
       "      <th>234</th>\n",
       "      <td>2023</td>\n",
       "      <td>San Luis</td>\n",
       "      <td>96.0500</td>\n",
       "    </tr>\n",
       "    <tr>\n",
       "      <th>222</th>\n",
       "      <td>2023</td>\n",
       "      <td>Córdoba</td>\n",
       "      <td>89.9225</td>\n",
       "    </tr>\n",
       "    <tr>\n",
       "      <th>220</th>\n",
       "      <td>2023</td>\n",
       "      <td>Chubut</td>\n",
       "      <td>84.3925</td>\n",
       "    </tr>\n",
       "    <tr>\n",
       "      <th>227</th>\n",
       "      <td>2023</td>\n",
       "      <td>La Rioja</td>\n",
       "      <td>80.1025</td>\n",
       "    </tr>\n",
       "    <tr>\n",
       "      <th>216</th>\n",
       "      <td>2023</td>\n",
       "      <td>Buenos Aires</td>\n",
       "      <td>80.0675</td>\n",
       "    </tr>\n",
       "    <tr>\n",
       "      <th>230</th>\n",
       "      <td>2023</td>\n",
       "      <td>Neuquén</td>\n",
       "      <td>79.3500</td>\n",
       "    </tr>\n",
       "    <tr>\n",
       "      <th>236</th>\n",
       "      <td>2023</td>\n",
       "      <td>Santa Fe</td>\n",
       "      <td>78.9500</td>\n",
       "    </tr>\n",
       "    <tr>\n",
       "      <th>231</th>\n",
       "      <td>2023</td>\n",
       "      <td>Río Negro</td>\n",
       "      <td>69.0950</td>\n",
       "    </tr>\n",
       "    <tr>\n",
       "      <th>218</th>\n",
       "      <td>2023</td>\n",
       "      <td>Catamarca</td>\n",
       "      <td>67.6925</td>\n",
       "    </tr>\n",
       "    <tr>\n",
       "      <th>223</th>\n",
       "      <td>2023</td>\n",
       "      <td>Entre Ríos</td>\n",
       "      <td>67.0000</td>\n",
       "    </tr>\n",
       "    <tr>\n",
       "      <th>239</th>\n",
       "      <td>2023</td>\n",
       "      <td>Tucumán</td>\n",
       "      <td>60.8475</td>\n",
       "    </tr>\n",
       "    <tr>\n",
       "      <th>225</th>\n",
       "      <td>2023</td>\n",
       "      <td>Jujuy</td>\n",
       "      <td>57.8425</td>\n",
       "    </tr>\n",
       "    <tr>\n",
       "      <th>232</th>\n",
       "      <td>2023</td>\n",
       "      <td>Salta</td>\n",
       "      <td>57.4250</td>\n",
       "    </tr>\n",
       "    <tr>\n",
       "      <th>229</th>\n",
       "      <td>2023</td>\n",
       "      <td>Misiones</td>\n",
       "      <td>55.2325</td>\n",
       "    </tr>\n",
       "    <tr>\n",
       "      <th>221</th>\n",
       "      <td>2023</td>\n",
       "      <td>Corrientes</td>\n",
       "      <td>52.4400</td>\n",
       "    </tr>\n",
       "    <tr>\n",
       "      <th>228</th>\n",
       "      <td>2023</td>\n",
       "      <td>Mendoza</td>\n",
       "      <td>51.9175</td>\n",
       "    </tr>\n",
       "    <tr>\n",
       "      <th>235</th>\n",
       "      <td>2023</td>\n",
       "      <td>Santa Cruz</td>\n",
       "      <td>49.9300</td>\n",
       "    </tr>\n",
       "    <tr>\n",
       "      <th>233</th>\n",
       "      <td>2023</td>\n",
       "      <td>San Juan</td>\n",
       "      <td>49.4500</td>\n",
       "    </tr>\n",
       "    <tr>\n",
       "      <th>237</th>\n",
       "      <td>2023</td>\n",
       "      <td>Santiago Del Estero</td>\n",
       "      <td>48.1100</td>\n",
       "    </tr>\n",
       "    <tr>\n",
       "      <th>219</th>\n",
       "      <td>2023</td>\n",
       "      <td>Chaco</td>\n",
       "      <td>43.3100</td>\n",
       "    </tr>\n",
       "    <tr>\n",
       "      <th>224</th>\n",
       "      <td>2023</td>\n",
       "      <td>Formosa</td>\n",
       "      <td>38.8000</td>\n",
       "    </tr>\n",
       "  </tbody>\n",
       "</table>\n",
       "</div>"
      ],
      "text/plain": [
       "      Año            Provincia  Accesos por cada 100 hogares\n",
       "217  2023      Capital Federal                      117.8725\n",
       "238  2023     Tierra Del Fuego                      106.7625\n",
       "226  2023             La Pampa                       98.4650\n",
       "234  2023             San Luis                       96.0500\n",
       "222  2023              Córdoba                       89.9225\n",
       "220  2023               Chubut                       84.3925\n",
       "227  2023             La Rioja                       80.1025\n",
       "216  2023         Buenos Aires                       80.0675\n",
       "230  2023              Neuquén                       79.3500\n",
       "236  2023             Santa Fe                       78.9500\n",
       "231  2023            Río Negro                       69.0950\n",
       "218  2023            Catamarca                       67.6925\n",
       "223  2023           Entre Ríos                       67.0000\n",
       "239  2023              Tucumán                       60.8475\n",
       "225  2023                Jujuy                       57.8425\n",
       "232  2023                Salta                       57.4250\n",
       "229  2023             Misiones                       55.2325\n",
       "221  2023           Corrientes                       52.4400\n",
       "228  2023              Mendoza                       51.9175\n",
       "235  2023           Santa Cruz                       49.9300\n",
       "233  2023             San Juan                       49.4500\n",
       "237  2023  Santiago Del Estero                       48.1100\n",
       "219  2023                Chaco                       43.3100\n",
       "224  2023              Formosa                       38.8000"
      ]
     },
     "execution_count": 18,
     "metadata": {},
     "output_type": "execute_result"
    }
   ],
   "source": [
    "accesos_en_2023"
   ]
  },
  {
   "cell_type": "code",
   "execution_count": 19,
   "metadata": {},
   "outputs": [
    {
     "data": {
      "image/png": "[encoded data removed]",
      "text/plain": [
       "<Figure size 1400x800 with 1 Axes>"
      ]
     },
     "metadata": {},
     "output_type": "display_data"
    }
   ],
   "source": [
    "plt.figure(figsize=(14, 8))\n",
    "sns.barplot(x='Provincia', y='Accesos por cada 100 hogares', hue='Provincia', data=accesos_en_2023)\n",
    "plt.title('Accesos por cada 100 hogares en diferentes provincias (2023)')\n",
    "plt.xlabel('Provincias')\n",
    "plt.ylabel('Accesos por cada 100 hogares')\n",
    "plt.xticks(rotation=90)\n",
    "plt.grid(True)\n",
    "plt.show()"
   ]
  },
  {
   "cell_type": "markdown",
   "metadata": {},
   "source": [
    "### Análisis del gráfico\n",
    "\n",
    "El gráfico indica que el mayor consumo hogareño está en Capital Federal y el menor en Formosa. La provincia de Buenos Aires tiene una mayor población pero está en el octavo lugar. Esto indica que la provincia de Buenos Aires puede seguir creciendo.\n",
    "\n",
    "Tierra del Fuego está en segundo lugar. Su población es pequeña en comparacion con otras provincias.\n",
    "\n",
    "Si Capital Federal concentra un elevado poder adquisitivo se puede pensar que Tierra del Fuego también podría tener esta característica.\n",
    "\n",
    "Se recomienda invertir en Capital Federal y, al mismo tiempo, en la provincia de Buenos Aires."
   ]
  }
 ],
 "metadata": {
  "kernelspec": {
   "display_name": "venv",
   "language": "python",
   "name": "python3"
  },
  "language_info": {
   "codemirror_mode": {
    "name": "ipython",
    "version": 3
   },
   "file_extension": ".py",
   "mimetype": "text/x-python",
   "name": "python",
   "nbconvert_exporter": "python",
   "pygments_lexer": "ipython3",
   "version": "3.11.9"
  }
 },
 "nbformat": 4,
 "nbformat_minor": 2
}
