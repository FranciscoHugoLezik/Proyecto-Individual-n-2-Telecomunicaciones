{
 "cells": [
  {
   "cell_type": "markdown",
   "metadata": {},
   "source": [
    "# EDA del dataset 'Accesos por Tecnología'"
   ]
  },
  {
   "cell_type": "markdown",
   "metadata": {},
   "source": [
    "## Librerías"
   ]
  },
  {
   "cell_type": "markdown",
   "metadata": {},
   "source": [
    "### Librerías nativas"
   ]
  },
  {
   "cell_type": "code",
   "execution_count": 1,
   "metadata": {},
   "outputs": [],
   "source": [
    "import warnings\n",
    "import os"
   ]
  },
  {
   "cell_type": "markdown",
   "metadata": {},
   "source": [
    "### Librerías instaladas"
   ]
  },
  {
   "cell_type": "code",
   "execution_count": 2,
   "metadata": {},
   "outputs": [],
   "source": [
    "import pandas as pd\n",
    "import matplotlib.pyplot as plt\n",
    "import seaborn as sns"
   ]
  },
  {
   "cell_type": "markdown",
   "metadata": {},
   "source": [
    "### Ignorar warnings"
   ]
  },
  {
   "cell_type": "code",
   "execution_count": 3,
   "metadata": {},
   "outputs": [],
   "source": [
    "warnings.filterwarnings('ignore')"
   ]
  },
  {
   "cell_type": "markdown",
   "metadata": {},
   "source": [
    "## Extracción del dataset"
   ]
  },
  {
   "cell_type": "markdown",
   "metadata": {},
   "source": [
    "Ruta actual."
   ]
  },
  {
   "cell_type": "code",
   "execution_count": 4,
   "metadata": {},
   "outputs": [
    {
     "data": {
      "text/plain": [
       "'c:\\\\Users\\\\franc\\\\Desktop\\\\Proyecto Individual n°2 Telecomunicaciones\\\\notebooks'"
      ]
     },
     "execution_count": 4,
     "metadata": {},
     "output_type": "execute_result"
    }
   ],
   "source": [
    "ruta_actual = os.getcwd()\n",
    "\n",
    "ruta_actual"
   ]
  },
  {
   "cell_type": "markdown",
   "metadata": {},
   "source": [
    "Ruta raíz del proyecto."
   ]
  },
  {
   "cell_type": "code",
   "execution_count": 5,
   "metadata": {},
   "outputs": [
    {
     "data": {
      "text/plain": [
       "'c:\\\\Users\\\\franc\\\\Desktop\\\\Proyecto Individual n°2 Telecomunicaciones'"
      ]
     },
     "execution_count": 5,
     "metadata": {},
     "output_type": "execute_result"
    }
   ],
   "source": [
    "ruta_del_proyecto = os.path.dirname(\n",
    "    ruta_actual\n",
    "    )\n",
    "\n",
    "ruta_del_proyecto"
   ]
  },
  {
   "cell_type": "markdown",
   "metadata": {},
   "source": [
    "Ruta del dataset a extraer."
   ]
  },
  {
   "cell_type": "code",
   "execution_count": 6,
   "metadata": {},
   "outputs": [
    {
     "data": {
      "text/plain": [
       "'c:\\\\Users\\\\franc\\\\Desktop\\\\Proyecto Individual n°2 Telecomunicaciones\\\\data\\\\accesos_por_tecnologia.parquet'"
      ]
     },
     "execution_count": 6,
     "metadata": {},
     "output_type": "execute_result"
    }
   ],
   "source": [
    "ruta_del_dataset = os.path.join(\n",
    "    ruta_del_proyecto, \n",
    "    'data', \n",
    "    'accesos_por_tecnologia.parquet'\n",
    "    )\n",
    "\n",
    "ruta_del_dataset"
   ]
  },
  {
   "cell_type": "markdown",
   "metadata": {},
   "source": [
    "Se extrae el dataset."
   ]
  },
  {
   "cell_type": "code",
   "execution_count": 7,
   "metadata": {},
   "outputs": [],
   "source": [
    "accesos_por_tecnologia = pd.read_parquet(\n",
    "    ruta_del_dataset, \n",
    "    engine='fastparquet'\n",
    "    )"
   ]
  },
  {
   "cell_type": "markdown",
   "metadata": {},
   "source": [
    "## Exploración del dataset"
   ]
  },
  {
   "cell_type": "code",
   "execution_count": 8,
   "metadata": {},
   "outputs": [
    {
     "data": {
      "text/html": [
       "<div>\n",
       "<style scoped>\n",
       "    .dataframe tbody tr th:only-of-type {\n",
       "        vertical-align: middle;\n",
       "    }\n",
       "\n",
       "    .dataframe tbody tr th {\n",
       "        vertical-align: top;\n",
       "    }\n",
       "\n",
       "    .dataframe thead th {\n",
       "        text-align: right;\n",
       "    }\n",
       "</style>\n",
       "<table border=\"1\" class=\"dataframe\">\n",
       "  <thead>\n",
       "    <tr style=\"text-align: right;\">\n",
       "      <th></th>\n",
       "      <th>Año</th>\n",
       "      <th>Trimestre</th>\n",
       "      <th>Provincia</th>\n",
       "      <th>ADSL</th>\n",
       "      <th>Cablemodem</th>\n",
       "      <th>Fibra óptica</th>\n",
       "      <th>Wireless</th>\n",
       "      <th>Otros</th>\n",
       "      <th>Total</th>\n",
       "    </tr>\n",
       "  </thead>\n",
       "  <tbody>\n",
       "    <tr>\n",
       "      <th>0</th>\n",
       "      <td>2024.0</td>\n",
       "      <td>2.0</td>\n",
       "      <td>Buenos Aires</td>\n",
       "      <td>214055.0</td>\n",
       "      <td>2722466.0</td>\n",
       "      <td>1849476.0</td>\n",
       "      <td>138638.0</td>\n",
       "      <td>64745.0</td>\n",
       "      <td>4989380.0</td>\n",
       "    </tr>\n",
       "    <tr>\n",
       "      <th>1</th>\n",
       "      <td>2024.0</td>\n",
       "      <td>2.0</td>\n",
       "      <td>Capital Federal</td>\n",
       "      <td>54102.0</td>\n",
       "      <td>1144781.0</td>\n",
       "      <td>230402.0</td>\n",
       "      <td>4493.0</td>\n",
       "      <td>29821.0</td>\n",
       "      <td>1463599.0</td>\n",
       "    </tr>\n",
       "    <tr>\n",
       "      <th>2</th>\n",
       "      <td>2024.0</td>\n",
       "      <td>2.0</td>\n",
       "      <td>Catamarca</td>\n",
       "      <td>4951.0</td>\n",
       "      <td>10303.0</td>\n",
       "      <td>58355.0</td>\n",
       "      <td>1384.0</td>\n",
       "      <td>81.0</td>\n",
       "      <td>75074.0</td>\n",
       "    </tr>\n",
       "    <tr>\n",
       "      <th>3</th>\n",
       "      <td>2024.0</td>\n",
       "      <td>2.0</td>\n",
       "      <td>Chaco</td>\n",
       "      <td>9448.0</td>\n",
       "      <td>57935.0</td>\n",
       "      <td>68944.0</td>\n",
       "      <td>8407.0</td>\n",
       "      <td>2358.0</td>\n",
       "      <td>147092.0</td>\n",
       "    </tr>\n",
       "    <tr>\n",
       "      <th>4</th>\n",
       "      <td>2024.0</td>\n",
       "      <td>2.0</td>\n",
       "      <td>Chubut</td>\n",
       "      <td>25955.0</td>\n",
       "      <td>80704.0</td>\n",
       "      <td>26516.0</td>\n",
       "      <td>31118.0</td>\n",
       "      <td>9930.0</td>\n",
       "      <td>174223.0</td>\n",
       "    </tr>\n",
       "    <tr>\n",
       "      <th>...</th>\n",
       "      <td>...</td>\n",
       "      <td>...</td>\n",
       "      <td>...</td>\n",
       "      <td>...</td>\n",
       "      <td>...</td>\n",
       "      <td>...</td>\n",
       "      <td>...</td>\n",
       "      <td>...</td>\n",
       "      <td>...</td>\n",
       "    </tr>\n",
       "    <tr>\n",
       "      <th>931</th>\n",
       "      <td>2014.0</td>\n",
       "      <td>1.0</td>\n",
       "      <td>Santa Fe</td>\n",
       "      <td>322662.0</td>\n",
       "      <td>174296.0</td>\n",
       "      <td>3059.0</td>\n",
       "      <td>5951.0</td>\n",
       "      <td>644.0</td>\n",
       "      <td>506612.0</td>\n",
       "    </tr>\n",
       "    <tr>\n",
       "      <th>932</th>\n",
       "      <td>2014.0</td>\n",
       "      <td>1.0</td>\n",
       "      <td>Santiago Del Estero</td>\n",
       "      <td>32567.0</td>\n",
       "      <td>3598.0</td>\n",
       "      <td>19.0</td>\n",
       "      <td>915.0</td>\n",
       "      <td>34.0</td>\n",
       "      <td>37133.0</td>\n",
       "    </tr>\n",
       "    <tr>\n",
       "      <th>933</th>\n",
       "      <td>2014.0</td>\n",
       "      <td>1.0</td>\n",
       "      <td>Tierra Del Fuego</td>\n",
       "      <td>21618.0</td>\n",
       "      <td>2837.0</td>\n",
       "      <td>648.0</td>\n",
       "      <td>1.0</td>\n",
       "      <td>2934.0</td>\n",
       "      <td>28038.0</td>\n",
       "    </tr>\n",
       "    <tr>\n",
       "      <th>934</th>\n",
       "      <td>2014.0</td>\n",
       "      <td>1.0</td>\n",
       "      <td>Tucumán</td>\n",
       "      <td>129717.0</td>\n",
       "      <td>83.0</td>\n",
       "      <td>121.0</td>\n",
       "      <td>13.0</td>\n",
       "      <td>98.0</td>\n",
       "      <td>130032.0</td>\n",
       "    </tr>\n",
       "    <tr>\n",
       "      <th>935</th>\n",
       "      <td>NaN</td>\n",
       "      <td>NaN</td>\n",
       "      <td>None</td>\n",
       "      <td>NaN</td>\n",
       "      <td>NaN</td>\n",
       "      <td>NaN</td>\n",
       "      <td>NaN</td>\n",
       "      <td>NaN</td>\n",
       "      <td>NaN</td>\n",
       "    </tr>\n",
       "  </tbody>\n",
       "</table>\n",
       "<p>936 rows × 9 columns</p>\n",
       "</div>"
      ],
      "text/plain": [
       "        Año  Trimestre            Provincia      ADSL  Cablemodem  \\\n",
       "0    2024.0        2.0         Buenos Aires  214055.0   2722466.0   \n",
       "1    2024.0        2.0      Capital Federal   54102.0   1144781.0   \n",
       "2    2024.0        2.0            Catamarca    4951.0     10303.0   \n",
       "3    2024.0        2.0                Chaco    9448.0     57935.0   \n",
       "4    2024.0        2.0               Chubut   25955.0     80704.0   \n",
       "..      ...        ...                  ...       ...         ...   \n",
       "931  2014.0        1.0             Santa Fe  322662.0    174296.0   \n",
       "932  2014.0        1.0  Santiago Del Estero   32567.0      3598.0   \n",
       "933  2014.0        1.0     Tierra Del Fuego   21618.0      2837.0   \n",
       "934  2014.0        1.0              Tucumán  129717.0        83.0   \n",
       "935     NaN        NaN                 None       NaN         NaN   \n",
       "\n",
       "     Fibra óptica  Wireless    Otros      Total  \n",
       "0       1849476.0  138638.0  64745.0  4989380.0  \n",
       "1        230402.0    4493.0  29821.0  1463599.0  \n",
       "2         58355.0    1384.0     81.0    75074.0  \n",
       "3         68944.0    8407.0   2358.0   147092.0  \n",
       "4         26516.0   31118.0   9930.0   174223.0  \n",
       "..            ...       ...      ...        ...  \n",
       "931        3059.0    5951.0    644.0   506612.0  \n",
       "932          19.0     915.0     34.0    37133.0  \n",
       "933         648.0       1.0   2934.0    28038.0  \n",
       "934         121.0      13.0     98.0   130032.0  \n",
       "935           NaN       NaN      NaN        NaN  \n",
       "\n",
       "[936 rows x 9 columns]"
      ]
     },
     "execution_count": 8,
     "metadata": {},
     "output_type": "execute_result"
    }
   ],
   "source": [
    "accesos_por_tecnologia"
   ]
  },
  {
   "cell_type": "code",
   "execution_count": 9,
   "metadata": {},
   "outputs": [
    {
     "name": "stdout",
     "output_type": "stream",
     "text": [
      "<class 'pandas.core.frame.DataFrame'>\n",
      "RangeIndex: 936 entries, 0 to 935\n",
      "Data columns (total 9 columns):\n",
      " #   Column        Non-Null Count  Dtype  \n",
      "---  ------        --------------  -----  \n",
      " 0   Año           935 non-null    float64\n",
      " 1   Trimestre     935 non-null    float64\n",
      " 2   Provincia     935 non-null    object \n",
      " 3   ADSL          935 non-null    float64\n",
      " 4   Cablemodem    935 non-null    float64\n",
      " 5   Fibra óptica  935 non-null    float64\n",
      " 6   Wireless      935 non-null    float64\n",
      " 7   Otros         935 non-null    float64\n",
      " 8   Total         935 non-null    float64\n",
      "dtypes: float64(8), object(1)\n",
      "memory usage: 65.9+ KB\n"
     ]
    }
   ],
   "source": [
    "accesos_por_tecnologia.info()"
   ]
  },
  {
   "cell_type": "markdown",
   "metadata": {},
   "source": [
    "Sin duplicados."
   ]
  },
  {
   "cell_type": "code",
   "execution_count": 10,
   "metadata": {},
   "outputs": [
    {
     "data": {
      "text/plain": [
       "np.int64(0)"
      ]
     },
     "execution_count": 10,
     "metadata": {},
     "output_type": "execute_result"
    }
   ],
   "source": [
    "accesos_por_tecnologia.duplicated(\n",
    "    subset=['Año', 'Trimestre', 'Provincia']\n",
    "    ).sum()"
   ]
  },
  {
   "cell_type": "markdown",
   "metadata": {},
   "source": [
    "Hay nulos."
   ]
  },
  {
   "cell_type": "code",
   "execution_count": 11,
   "metadata": {},
   "outputs": [
    {
     "data": {
      "text/html": [
       "<div>\n",
       "<style scoped>\n",
       "    .dataframe tbody tr th:only-of-type {\n",
       "        vertical-align: middle;\n",
       "    }\n",
       "\n",
       "    .dataframe tbody tr th {\n",
       "        vertical-align: top;\n",
       "    }\n",
       "\n",
       "    .dataframe thead th {\n",
       "        text-align: right;\n",
       "    }\n",
       "</style>\n",
       "<table border=\"1\" class=\"dataframe\">\n",
       "  <thead>\n",
       "    <tr style=\"text-align: right;\">\n",
       "      <th></th>\n",
       "      <th>Año</th>\n",
       "      <th>Trimestre</th>\n",
       "      <th>Provincia</th>\n",
       "      <th>ADSL</th>\n",
       "      <th>Cablemodem</th>\n",
       "      <th>Fibra óptica</th>\n",
       "      <th>Wireless</th>\n",
       "      <th>Otros</th>\n",
       "      <th>Total</th>\n",
       "    </tr>\n",
       "  </thead>\n",
       "  <tbody>\n",
       "    <tr>\n",
       "      <th>935</th>\n",
       "      <td>NaN</td>\n",
       "      <td>NaN</td>\n",
       "      <td>None</td>\n",
       "      <td>NaN</td>\n",
       "      <td>NaN</td>\n",
       "      <td>NaN</td>\n",
       "      <td>NaN</td>\n",
       "      <td>NaN</td>\n",
       "      <td>NaN</td>\n",
       "    </tr>\n",
       "  </tbody>\n",
       "</table>\n",
       "</div>"
      ],
      "text/plain": [
       "     Año  Trimestre Provincia  ADSL  Cablemodem  Fibra óptica  Wireless  \\\n",
       "935  NaN        NaN      None   NaN         NaN           NaN       NaN   \n",
       "\n",
       "     Otros  Total  \n",
       "935    NaN    NaN  "
      ]
     },
     "execution_count": 11,
     "metadata": {},
     "output_type": "execute_result"
    }
   ],
   "source": [
    "accesos_por_tecnologia[\n",
    "    accesos_por_tecnologia.isna().any(axis=1)\n",
    "    ]"
   ]
  },
  {
   "cell_type": "markdown",
   "metadata": {},
   "source": [
    "Se eliminan los nulos."
   ]
  },
  {
   "cell_type": "code",
   "execution_count": 12,
   "metadata": {},
   "outputs": [],
   "source": [
    "accesos_por_tecnologia.dropna(inplace=True)"
   ]
  },
  {
   "cell_type": "code",
   "execution_count": 13,
   "metadata": {},
   "outputs": [
    {
     "data": {
      "text/plain": [
       "Año             0\n",
       "Trimestre       0\n",
       "Provincia       0\n",
       "ADSL            0\n",
       "Cablemodem      0\n",
       "Fibra óptica    0\n",
       "Wireless        0\n",
       "Otros           0\n",
       "Total           0\n",
       "dtype: int64"
      ]
     },
     "execution_count": 13,
     "metadata": {},
     "output_type": "execute_result"
    }
   ],
   "source": [
    "accesos_por_tecnologia.isnull().sum()"
   ]
  },
  {
   "cell_type": "markdown",
   "metadata": {},
   "source": [
    "## Accesos por Tecnología a lo largo de los años"
   ]
  },
  {
   "cell_type": "markdown",
   "metadata": {},
   "source": [
    "Se agrupa por los años las columnas de las tecnologías y el total."
   ]
  },
  {
   "cell_type": "code",
   "execution_count": 14,
   "metadata": {},
   "outputs": [
    {
     "data": {
      "text/html": [
       "<div>\n",
       "<style scoped>\n",
       "    .dataframe tbody tr th:only-of-type {\n",
       "        vertical-align: middle;\n",
       "    }\n",
       "\n",
       "    .dataframe tbody tr th {\n",
       "        vertical-align: top;\n",
       "    }\n",
       "\n",
       "    .dataframe thead th {\n",
       "        text-align: right;\n",
       "    }\n",
       "</style>\n",
       "<table border=\"1\" class=\"dataframe\">\n",
       "  <thead>\n",
       "    <tr style=\"text-align: right;\">\n",
       "      <th></th>\n",
       "      <th>Año</th>\n",
       "      <th>ADSL</th>\n",
       "      <th>Cablemodem</th>\n",
       "      <th>Fibra óptica</th>\n",
       "      <th>Wireless</th>\n",
       "      <th>Otros</th>\n",
       "      <th>Total</th>\n",
       "    </tr>\n",
       "  </thead>\n",
       "  <tbody>\n",
       "    <tr>\n",
       "      <th>0</th>\n",
       "      <td>2014.0</td>\n",
       "      <td>155049.479167</td>\n",
       "      <td>103907.156250</td>\n",
       "      <td>6300.645833</td>\n",
       "      <td>3179.520833</td>\n",
       "      <td>2986.458333</td>\n",
       "      <td>271423.260417</td>\n",
       "    </tr>\n",
       "    <tr>\n",
       "      <th>1</th>\n",
       "      <td>2015.0</td>\n",
       "      <td>157455.145833</td>\n",
       "      <td>116280.947917</td>\n",
       "      <td>6467.468750</td>\n",
       "      <td>3452.406250</td>\n",
       "      <td>2529.645833</td>\n",
       "      <td>286185.614583</td>\n",
       "    </tr>\n",
       "    <tr>\n",
       "      <th>2</th>\n",
       "      <td>2016.0</td>\n",
       "      <td>157018.895833</td>\n",
       "      <td>126844.666667</td>\n",
       "      <td>7084.656250</td>\n",
       "      <td>3514.541667</td>\n",
       "      <td>2371.177083</td>\n",
       "      <td>296833.937500</td>\n",
       "    </tr>\n",
       "    <tr>\n",
       "      <th>3</th>\n",
       "      <td>2017.0</td>\n",
       "      <td>152492.729167</td>\n",
       "      <td>147375.656250</td>\n",
       "      <td>7982.416667</td>\n",
       "      <td>4508.791667</td>\n",
       "      <td>3585.020833</td>\n",
       "      <td>315944.614583</td>\n",
       "    </tr>\n",
       "    <tr>\n",
       "      <th>4</th>\n",
       "      <td>2018.0</td>\n",
       "      <td>145645.666667</td>\n",
       "      <td>172617.416667</td>\n",
       "      <td>11240.875000</td>\n",
       "      <td>9062.989583</td>\n",
       "      <td>4851.666667</td>\n",
       "      <td>343418.614583</td>\n",
       "    </tr>\n",
       "    <tr>\n",
       "      <th>5</th>\n",
       "      <td>2019.0</td>\n",
       "      <td>100607.291667</td>\n",
       "      <td>203494.541667</td>\n",
       "      <td>39220.625000</td>\n",
       "      <td>14172.666667</td>\n",
       "      <td>8887.416667</td>\n",
       "      <td>366382.541667</td>\n",
       "    </tr>\n",
       "    <tr>\n",
       "      <th>6</th>\n",
       "      <td>2020.0</td>\n",
       "      <td>94508.625000</td>\n",
       "      <td>213957.958333</td>\n",
       "      <td>48298.125000</td>\n",
       "      <td>16289.718750</td>\n",
       "      <td>9979.354167</td>\n",
       "      <td>383033.781250</td>\n",
       "    </tr>\n",
       "    <tr>\n",
       "      <th>7</th>\n",
       "      <td>2021.0</td>\n",
       "      <td>81271.291667</td>\n",
       "      <td>238302.187500</td>\n",
       "      <td>67432.354167</td>\n",
       "      <td>20073.312500</td>\n",
       "      <td>10487.427083</td>\n",
       "      <td>417566.572917</td>\n",
       "    </tr>\n",
       "    <tr>\n",
       "      <th>8</th>\n",
       "      <td>2022.0</td>\n",
       "      <td>59502.322917</td>\n",
       "      <td>251271.531250</td>\n",
       "      <td>113280.562500</td>\n",
       "      <td>23251.416667</td>\n",
       "      <td>9797.656250</td>\n",
       "      <td>457103.489583</td>\n",
       "    </tr>\n",
       "    <tr>\n",
       "      <th>9</th>\n",
       "      <td>2023.0</td>\n",
       "      <td>41095.947917</td>\n",
       "      <td>250428.072917</td>\n",
       "      <td>149211.458333</td>\n",
       "      <td>24225.687500</td>\n",
       "      <td>8459.260417</td>\n",
       "      <td>473420.427083</td>\n",
       "    </tr>\n",
       "    <tr>\n",
       "      <th>10</th>\n",
       "      <td>2024.0</td>\n",
       "      <td>27758.914894</td>\n",
       "      <td>192846.765957</td>\n",
       "      <td>135873.319149</td>\n",
       "      <td>22161.468085</td>\n",
       "      <td>7417.106383</td>\n",
       "      <td>386057.574468</td>\n",
       "    </tr>\n",
       "  </tbody>\n",
       "</table>\n",
       "</div>"
      ],
      "text/plain": [
       "       Año           ADSL     Cablemodem   Fibra óptica      Wireless  \\\n",
       "0   2014.0  155049.479167  103907.156250    6300.645833   3179.520833   \n",
       "1   2015.0  157455.145833  116280.947917    6467.468750   3452.406250   \n",
       "2   2016.0  157018.895833  126844.666667    7084.656250   3514.541667   \n",
       "3   2017.0  152492.729167  147375.656250    7982.416667   4508.791667   \n",
       "4   2018.0  145645.666667  172617.416667   11240.875000   9062.989583   \n",
       "5   2019.0  100607.291667  203494.541667   39220.625000  14172.666667   \n",
       "6   2020.0   94508.625000  213957.958333   48298.125000  16289.718750   \n",
       "7   2021.0   81271.291667  238302.187500   67432.354167  20073.312500   \n",
       "8   2022.0   59502.322917  251271.531250  113280.562500  23251.416667   \n",
       "9   2023.0   41095.947917  250428.072917  149211.458333  24225.687500   \n",
       "10  2024.0   27758.914894  192846.765957  135873.319149  22161.468085   \n",
       "\n",
       "           Otros          Total  \n",
       "0    2986.458333  271423.260417  \n",
       "1    2529.645833  286185.614583  \n",
       "2    2371.177083  296833.937500  \n",
       "3    3585.020833  315944.614583  \n",
       "4    4851.666667  343418.614583  \n",
       "5    8887.416667  366382.541667  \n",
       "6    9979.354167  383033.781250  \n",
       "7   10487.427083  417566.572917  \n",
       "8    9797.656250  457103.489583  \n",
       "9    8459.260417  473420.427083  \n",
       "10   7417.106383  386057.574468  "
      ]
     },
     "execution_count": 14,
     "metadata": {},
     "output_type": "execute_result"
    }
   ],
   "source": [
    "años = accesos_por_tecnologia.groupby('Año')[\n",
    "    ['ADSL', 'Cablemodem', 'Fibra óptica', 'Wireless', 'Otros', 'Total']\n",
    "    ].mean().reset_index()\n",
    "\n",
    "años"
   ]
  },
  {
   "cell_type": "code",
   "execution_count": 15,
   "metadata": {},
   "outputs": [],
   "source": [
    "años.drop(10, inplace=True)"
   ]
  },
  {
   "cell_type": "code",
   "execution_count": 16,
   "metadata": {},
   "outputs": [
    {
     "data": {
      "text/html": [
       "<div>\n",
       "<style scoped>\n",
       "    .dataframe tbody tr th:only-of-type {\n",
       "        vertical-align: middle;\n",
       "    }\n",
       "\n",
       "    .dataframe tbody tr th {\n",
       "        vertical-align: top;\n",
       "    }\n",
       "\n",
       "    .dataframe thead th {\n",
       "        text-align: right;\n",
       "    }\n",
       "</style>\n",
       "<table border=\"1\" class=\"dataframe\">\n",
       "  <thead>\n",
       "    <tr style=\"text-align: right;\">\n",
       "      <th></th>\n",
       "      <th>Año</th>\n",
       "      <th>ADSL</th>\n",
       "      <th>Cablemodem</th>\n",
       "      <th>Fibra óptica</th>\n",
       "      <th>Wireless</th>\n",
       "      <th>Otros</th>\n",
       "      <th>Total</th>\n",
       "    </tr>\n",
       "  </thead>\n",
       "  <tbody>\n",
       "    <tr>\n",
       "      <th>0</th>\n",
       "      <td>2014.0</td>\n",
       "      <td>155049.479167</td>\n",
       "      <td>103907.156250</td>\n",
       "      <td>6300.645833</td>\n",
       "      <td>3179.520833</td>\n",
       "      <td>2986.458333</td>\n",
       "      <td>271423.260417</td>\n",
       "    </tr>\n",
       "    <tr>\n",
       "      <th>1</th>\n",
       "      <td>2015.0</td>\n",
       "      <td>157455.145833</td>\n",
       "      <td>116280.947917</td>\n",
       "      <td>6467.468750</td>\n",
       "      <td>3452.406250</td>\n",
       "      <td>2529.645833</td>\n",
       "      <td>286185.614583</td>\n",
       "    </tr>\n",
       "    <tr>\n",
       "      <th>2</th>\n",
       "      <td>2016.0</td>\n",
       "      <td>157018.895833</td>\n",
       "      <td>126844.666667</td>\n",
       "      <td>7084.656250</td>\n",
       "      <td>3514.541667</td>\n",
       "      <td>2371.177083</td>\n",
       "      <td>296833.937500</td>\n",
       "    </tr>\n",
       "    <tr>\n",
       "      <th>3</th>\n",
       "      <td>2017.0</td>\n",
       "      <td>152492.729167</td>\n",
       "      <td>147375.656250</td>\n",
       "      <td>7982.416667</td>\n",
       "      <td>4508.791667</td>\n",
       "      <td>3585.020833</td>\n",
       "      <td>315944.614583</td>\n",
       "    </tr>\n",
       "    <tr>\n",
       "      <th>4</th>\n",
       "      <td>2018.0</td>\n",
       "      <td>145645.666667</td>\n",
       "      <td>172617.416667</td>\n",
       "      <td>11240.875000</td>\n",
       "      <td>9062.989583</td>\n",
       "      <td>4851.666667</td>\n",
       "      <td>343418.614583</td>\n",
       "    </tr>\n",
       "    <tr>\n",
       "      <th>5</th>\n",
       "      <td>2019.0</td>\n",
       "      <td>100607.291667</td>\n",
       "      <td>203494.541667</td>\n",
       "      <td>39220.625000</td>\n",
       "      <td>14172.666667</td>\n",
       "      <td>8887.416667</td>\n",
       "      <td>366382.541667</td>\n",
       "    </tr>\n",
       "    <tr>\n",
       "      <th>6</th>\n",
       "      <td>2020.0</td>\n",
       "      <td>94508.625000</td>\n",
       "      <td>213957.958333</td>\n",
       "      <td>48298.125000</td>\n",
       "      <td>16289.718750</td>\n",
       "      <td>9979.354167</td>\n",
       "      <td>383033.781250</td>\n",
       "    </tr>\n",
       "    <tr>\n",
       "      <th>7</th>\n",
       "      <td>2021.0</td>\n",
       "      <td>81271.291667</td>\n",
       "      <td>238302.187500</td>\n",
       "      <td>67432.354167</td>\n",
       "      <td>20073.312500</td>\n",
       "      <td>10487.427083</td>\n",
       "      <td>417566.572917</td>\n",
       "    </tr>\n",
       "    <tr>\n",
       "      <th>8</th>\n",
       "      <td>2022.0</td>\n",
       "      <td>59502.322917</td>\n",
       "      <td>251271.531250</td>\n",
       "      <td>113280.562500</td>\n",
       "      <td>23251.416667</td>\n",
       "      <td>9797.656250</td>\n",
       "      <td>457103.489583</td>\n",
       "    </tr>\n",
       "    <tr>\n",
       "      <th>9</th>\n",
       "      <td>2023.0</td>\n",
       "      <td>41095.947917</td>\n",
       "      <td>250428.072917</td>\n",
       "      <td>149211.458333</td>\n",
       "      <td>24225.687500</td>\n",
       "      <td>8459.260417</td>\n",
       "      <td>473420.427083</td>\n",
       "    </tr>\n",
       "  </tbody>\n",
       "</table>\n",
       "</div>"
      ],
      "text/plain": [
       "      Año           ADSL     Cablemodem   Fibra óptica      Wireless  \\\n",
       "0  2014.0  155049.479167  103907.156250    6300.645833   3179.520833   \n",
       "1  2015.0  157455.145833  116280.947917    6467.468750   3452.406250   \n",
       "2  2016.0  157018.895833  126844.666667    7084.656250   3514.541667   \n",
       "3  2017.0  152492.729167  147375.656250    7982.416667   4508.791667   \n",
       "4  2018.0  145645.666667  172617.416667   11240.875000   9062.989583   \n",
       "5  2019.0  100607.291667  203494.541667   39220.625000  14172.666667   \n",
       "6  2020.0   94508.625000  213957.958333   48298.125000  16289.718750   \n",
       "7  2021.0   81271.291667  238302.187500   67432.354167  20073.312500   \n",
       "8  2022.0   59502.322917  251271.531250  113280.562500  23251.416667   \n",
       "9  2023.0   41095.947917  250428.072917  149211.458333  24225.687500   \n",
       "\n",
       "          Otros          Total  \n",
       "0   2986.458333  271423.260417  \n",
       "1   2529.645833  286185.614583  \n",
       "2   2371.177083  296833.937500  \n",
       "3   3585.020833  315944.614583  \n",
       "4   4851.666667  343418.614583  \n",
       "5   8887.416667  366382.541667  \n",
       "6   9979.354167  383033.781250  \n",
       "7  10487.427083  417566.572917  \n",
       "8   9797.656250  457103.489583  \n",
       "9   8459.260417  473420.427083  "
      ]
     },
     "execution_count": 16,
     "metadata": {},
     "output_type": "execute_result"
    }
   ],
   "source": [
    "años"
   ]
  },
  {
   "cell_type": "markdown",
   "metadata": {},
   "source": [
    "Se crea un dataframe de formato largo."
   ]
  },
  {
   "cell_type": "code",
   "execution_count": 17,
   "metadata": {},
   "outputs": [],
   "source": [
    "df_melted = pd.melt(\n",
    "    años, \n",
    "    id_vars='Año', \n",
    "    value_vars=['ADSL', 'Cablemodem', 'Fibra óptica', 'Wireless', 'Otros', 'Total'], \n",
    "    var_name='Tecnologia', \n",
    "    value_name='Accesos'\n",
    "    )\n"
   ]
  },
  {
   "cell_type": "code",
   "execution_count": 18,
   "metadata": {},
   "outputs": [
    {
     "data": {
      "image/png": "[encoded data removed]",
      "text/plain": [
       "<Figure size 1400x800 with 1 Axes>"
      ]
     },
     "metadata": {},
     "output_type": "display_data"
    }
   ],
   "source": [
    "plt.figure(figsize=(14, 8))\n",
    "sns.lineplot(data=df_melted, x='Año', y='Accesos', hue='Tecnologia', marker='o')\n",
    "plt.title('Accesos por Tecnología a lo largo de los años')\n",
    "plt.xlabel('Año')\n",
    "plt.ylabel('Accesos por cada 100 hogares')\n",
    "plt.legend(title='Tecnología', bbox_to_anchor=(1.05, 1), loc='upper left')\n",
    "plt.grid(True)\n",
    "plt.show()"
   ]
  },
  {
   "cell_type": "markdown",
   "metadata": {},
   "source": [
    "### Análisis del gráfico\n",
    "\n",
    "El crecimiento total es constante. La tecnología dominante en el 2023 es el Cablemódem, que esta en una meseta. En segundo lugar la fibra óptica que tiene una tendencia alcista. Mientras que en tercer lugar esta el ADSL cuya tendencia es seguir cayendo en los próximo años. El wireless, en 10 años, siempre se mantuvo bajo aunque últimamente está creciendo de a poco.\n",
    "\n",
    "En el año 2014 la tecnología dominante era la ADSL. En 2018 fue desbancada por la tecnología Cablemódem. A partir de ahí, comenzo la debacle de la ADSL.\n",
    "\n",
    "Mi recomendación es concentrar la inversión en la fibra óptica. Esto es porque, de mantenerse la tendencia, esta tecnología superará al cablemódem."
   ]
  }
 ],
 "metadata": {
  "kernelspec": {
   "display_name": "venv",
   "language": "python",
   "name": "python3"
  },
  "language_info": {
   "codemirror_mode": {
    "name": "ipython",
    "version": 3
   },
   "file_extension": ".py",
   "mimetype": "text/x-python",
   "name": "python",
   "nbconvert_exporter": "python",
   "pygments_lexer": "ipython3",
   "version": "3.11.9"
  }
 },
 "nbformat": 4,
 "nbformat_minor": 2
}
